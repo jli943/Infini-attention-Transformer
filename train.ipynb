{
 "cells": [
  {
   "cell_type": "code",
   "execution_count": 9,
   "metadata": {},
   "outputs": [],
   "source": [
    "import os\n",
    "import requests\n",
    "import math\n",
    "import tiktoken\n",
    "import torch\n",
    "import torch.nn as nn\n",
    "from torch.nn import functional as F\n",
    "from transformer_language_model import TransformerLanguageModel"
   ]
  },
  {
   "cell_type": "code",
   "execution_count": 10,
   "metadata": {},
   "outputs": [],
   "source": [
    "# Hyperparameters\n",
    "batch_size = 1  # How many batches per training step\n",
    "context_length = 4096 # Length of the token chunk each batch\n",
    "dim_input = 128  # The size of our model token embeddings\n",
    "num_blocks = 4  # Number of transformer blocks\n",
    "num_heads = 4  # Number of heads in Multi-head attention\n",
    "learning_rate = 1e-3  # 0.001\n",
    "dropout = 0.1  # Dropout rate\n",
    "max_iters = 100 # Total of training iterations <- Change this to smaller number for testing\n",
    "eval_interval = 50  # How often to evaluate\n",
    "eval_iters = 20  # Number of iterations to average for evaluation\n",
    "device = 'mps'  # Use Mac GPU if it's available.\n",
    "\n",
    "infni=True\n",
    "segment_len=64\n",
    "\n",
    "TORCH_SEED = 1337\n",
    "\n",
    "torch.set_default_device(device)"
   ]
  },
  {
   "cell_type": "code",
   "execution_count": 11,
   "metadata": {},
   "outputs": [],
   "source": [
    "with open('data/sales_textbook.txt', 'r', encoding='utf-8') as f:\n",
    "    text = f.read()"
   ]
  },
  {
   "cell_type": "code",
   "execution_count": 12,
   "metadata": {},
   "outputs": [],
   "source": [
    "encoding = tiktoken.get_encoding(\"cl100k_base\")\n",
    "tokenized_text = encoding.encode(text)\n",
    "max_token_value = max(tokenized_text) + 1  # the maximum value of the tokenized numbers\n",
    "tokenized_text = torch.tensor(tokenized_text, dtype=torch.long, device=device)  # put tokenized text into tensor"
   ]
  },
  {
   "cell_type": "code",
   "execution_count": 13,
   "metadata": {},
   "outputs": [
    {
     "name": "stdout",
     "output_type": "stream",
     "text": [
      "70127\n"
     ]
    }
   ],
   "source": [
    "# Split train and validation\n",
    "split_idx = int(len(tokenized_text) * 0.8)\n",
    "split_val_text = int(len(tokenized_text) * 0.9)\n",
    "print(split_val_text)\n",
    "train_data = tokenized_text[:split_idx]\n",
    "val_data = tokenized_text[split_idx:split_val_text]\n",
    "test_data = tokenized_text[split_val_text:]"
   ]
  },
  {
   "cell_type": "code",
   "execution_count": 14,
   "metadata": {},
   "outputs": [
    {
     "name": "stdout",
     "output_type": "stream",
     "text": [
      "TransformerLanguageModel(\n",
      "  (token_embedding_lookup_table): Embedding(100071, 128)\n",
      "  (transformer_blocks): Sequential(\n",
      "    (0): TransformerBlock(\n",
      "      (multi_head_attention_layer): InfiniMultiHeadAttention(\n",
      "        (proj_k): Linear(in_features=128, out_features=128, bias=False)\n",
      "        (proj_v): Linear(in_features=128, out_features=128, bias=False)\n",
      "        (proj_q): Linear(in_features=128, out_features=128, bias=False)\n",
      "        (proj_out): Linear(in_features=128, out_features=128, bias=False)\n",
      "        (dropout_layer): Dropout(p=0.1, inplace=False)\n",
      "      )\n",
      "      (feed_forward_layer): FeedForward(\n",
      "        (ffn): Sequential(\n",
      "          (0): Linear(in_features=128, out_features=512, bias=True)\n",
      "          (1): ReLU()\n",
      "          (2): Linear(in_features=512, out_features=128, bias=True)\n",
      "          (3): Dropout(p=0.1, inplace=False)\n",
      "        )\n",
      "      )\n",
      "      (layer_norm_1): LayerNorm((128,), eps=1e-05, elementwise_affine=True)\n",
      "      (layer_norm_2): LayerNorm((128,), eps=1e-05, elementwise_affine=True)\n",
      "    )\n",
      "    (1): TransformerBlock(\n",
      "      (multi_head_attention_layer): InfiniMultiHeadAttention(\n",
      "        (proj_k): Linear(in_features=128, out_features=128, bias=False)\n",
      "        (proj_v): Linear(in_features=128, out_features=128, bias=False)\n",
      "        (proj_q): Linear(in_features=128, out_features=128, bias=False)\n",
      "        (proj_out): Linear(in_features=128, out_features=128, bias=False)\n",
      "        (dropout_layer): Dropout(p=0.1, inplace=False)\n",
      "      )\n",
      "      (feed_forward_layer): FeedForward(\n",
      "        (ffn): Sequential(\n",
      "          (0): Linear(in_features=128, out_features=512, bias=True)\n",
      "          (1): ReLU()\n",
      "          (2): Linear(in_features=512, out_features=128, bias=True)\n",
      "          (3): Dropout(p=0.1, inplace=False)\n",
      "        )\n",
      "      )\n",
      "      (layer_norm_1): LayerNorm((128,), eps=1e-05, elementwise_affine=True)\n",
      "      (layer_norm_2): LayerNorm((128,), eps=1e-05, elementwise_affine=True)\n",
      "    )\n",
      "    (2): TransformerBlock(\n",
      "      (multi_head_attention_layer): InfiniMultiHeadAttention(\n",
      "        (proj_k): Linear(in_features=128, out_features=128, bias=False)\n",
      "        (proj_v): Linear(in_features=128, out_features=128, bias=False)\n",
      "        (proj_q): Linear(in_features=128, out_features=128, bias=False)\n",
      "        (proj_out): Linear(in_features=128, out_features=128, bias=False)\n",
      "        (dropout_layer): Dropout(p=0.1, inplace=False)\n",
      "      )\n",
      "      (feed_forward_layer): FeedForward(\n",
      "        (ffn): Sequential(\n",
      "          (0): Linear(in_features=128, out_features=512, bias=True)\n",
      "          (1): ReLU()\n",
      "          (2): Linear(in_features=512, out_features=128, bias=True)\n",
      "          (3): Dropout(p=0.1, inplace=False)\n",
      "        )\n",
      "      )\n",
      "      (layer_norm_1): LayerNorm((128,), eps=1e-05, elementwise_affine=True)\n",
      "      (layer_norm_2): LayerNorm((128,), eps=1e-05, elementwise_affine=True)\n",
      "    )\n",
      "    (3): TransformerBlock(\n",
      "      (multi_head_attention_layer): InfiniMultiHeadAttention(\n",
      "        (proj_k): Linear(in_features=128, out_features=128, bias=False)\n",
      "        (proj_v): Linear(in_features=128, out_features=128, bias=False)\n",
      "        (proj_q): Linear(in_features=128, out_features=128, bias=False)\n",
      "        (proj_out): Linear(in_features=128, out_features=128, bias=False)\n",
      "        (dropout_layer): Dropout(p=0.1, inplace=False)\n",
      "      )\n",
      "      (feed_forward_layer): FeedForward(\n",
      "        (ffn): Sequential(\n",
      "          (0): Linear(in_features=128, out_features=512, bias=True)\n",
      "          (1): ReLU()\n",
      "          (2): Linear(in_features=512, out_features=128, bias=True)\n",
      "          (3): Dropout(p=0.1, inplace=False)\n",
      "        )\n",
      "      )\n",
      "      (layer_norm_1): LayerNorm((128,), eps=1e-05, elementwise_affine=True)\n",
      "      (layer_norm_2): LayerNorm((128,), eps=1e-05, elementwise_affine=True)\n",
      "    )\n",
      "    (4): LayerNorm((128,), eps=1e-05, elementwise_affine=True)\n",
      "  )\n",
      "  (language_model_out_linear_layer): Linear(in_features=128, out_features=100070, bias=True)\n",
      ")\n"
     ]
    }
   ],
   "source": [
    "model = TransformerLanguageModel(dim_input=dim_input, num_heads=num_heads, num_blocks=num_blocks, context_length=context_length, max_token_value=max_token_value, dropout=dropout, infini=infni, segment_len=segment_len)\n",
    "model = model.to(device)\n",
    "print(model)"
   ]
  },
  {
   "cell_type": "code",
   "execution_count": 15,
   "metadata": {},
   "outputs": [
    {
     "name": "stdout",
     "output_type": "stream",
     "text": [
      "Step: 0 Training Loss: 11.691 Validation Loss: 11.668\n",
      "Step: 20 Training Loss: 8.865 Validation Loss: 8.944\n",
      "Step: 40 Training Loss: 7.257 Validation Loss: 7.475\n",
      "Step: 60 Training Loss: 6.371 Validation Loss: 6.697\n",
      "Step: 80 Training Loss: 6.125 Validation Loss: 6.488\n",
      "Step: 99 Training Loss: 6.186 Validation Loss: 6.43\n"
     ]
    }
   ],
   "source": [
    "# Get input embedding batch\n",
    "def get_batch(split: str):\n",
    "    data = train_data if split == 'train' else val_data\n",
    "    idxs = torch.randint(low=0, high=len(data) - context_length, size=(batch_size,))\n",
    "    x = torch.stack([data[idx:idx + context_length] for idx in idxs]).to(device)\n",
    "    y = torch.stack([data[idx + 1:idx + context_length + 1] for idx in idxs]).to(device)\n",
    "    return x, y\n",
    "\n",
    "\n",
    "# Calculate loss\n",
    "@torch.no_grad()\n",
    "def estimate_loss():\n",
    "    out = {}\n",
    "    model.eval()\n",
    "    for split in ['train', 'valid']:\n",
    "        losses = torch.zeros(eval_iters)\n",
    "        for k in range(eval_iters):\n",
    "            x_batch, y_batch = get_batch(split)\n",
    "            logits, loss = model(x_batch, y_batch)\n",
    "            losses[k] = loss.item()\n",
    "        out[split] = losses.mean()\n",
    "    model.train()\n",
    "    return out\n",
    "\n",
    "\n",
    "# Use AdamW optimizer\n",
    "optimizer = torch.optim.AdamW(params=model.parameters(), lr=learning_rate)\n",
    "tracked_losses = list()\n",
    "for step in range(max_iters):\n",
    "    if step % eval_iters == 0 or step == max_iters - 1:\n",
    "        losses = estimate_loss()\n",
    "        tracked_losses.append(losses)\n",
    "        print('Step:', step, 'Training Loss:', round(losses['train'].item(), 3), 'Validation Loss:',\n",
    "              round(losses['valid'].item(), 3))\n",
    "\n",
    "    xb, yb = get_batch('train')\n",
    "    logits, loss = model(xb, yb)\n",
    "    optimizer.zero_grad(set_to_none=True)\n",
    "    loss.backward()\n",
    "    optimizer.step()\n",
    "\n",
    "# Save the model state dictionary\n",
    "torch.save(model.state_dict(), 'ckpt/model-infini-4096-64.pt')"
   ]
  },
  {
   "cell_type": "code",
   "execution_count": 16,
   "metadata": {},
   "outputs": [
    {
     "name": "stderr",
     "output_type": "stream",
     "text": [
      "/Users/jli943/miniforge3/envs/z2h/lib/python3.8/site-packages/torch/utils/_device.py:77: UserWarning: To copy construct from a tensor, it is recommended to use sourceTensor.clone().detach() or sourceTensor.clone().detach().requires_grad_(True), rather than torch.tensor(sourceTensor).\n",
      "  return func(*args, **kwargs)\n"
     ]
    },
    {
     "name": "stdout",
     "output_type": "stream",
     "text": [
      "torch.Size([1, 4096])\n"
     ]
    },
    {
     "name": "stdout",
     "output_type": "stream",
     "text": [
      "---------------\n",
      " the customer's concerns. Here are some strategies for handling objections during the closing phase:\n",
      "1. Actively listen: Give your undivided attention to the customer's objection and let them express their concerns fully. This shows respect and allows you to understand the underlying reasons behind their objection.\n",
      "2. Empathize with the customer: Show understanding and acknowledge their concerns. By empathizing with their situation, you create a sense of trust and rapport, making it easier to find a resolution.\n",
      "3. Clarify and rephrase: Repeat the objection in your own words to ensure you have understood it correctly. This demonstrates that you're actively listening and also gives the customer a chance to confirm or clarify their objection.\n",
      "4. Provide relevant information: Offer specific details, facts, and evidence to address the objection. This could include sharing success stories, testimonials, or detailed product specifications. The goal is to alleviate any doubts or misconceptions the customer may have.\n",
      "5. Show the value: Emphasize the benefits and unique selling points of your product or service. By highlighting how it can solve the customer's pain points or meet their needs, you can counter their objections effectively.\n",
      "6. Offer alternatives or solutions: If the customer's objection is genuine and cannot be easily overcome, explore alternative options that may better suit their requirements. This demonstrates flexibility and a willingness to find the best solution for them.\n",
      "7. Handle objections proactively: Anticipate common objections and address them before they arise. By proactively providing information and addressing potential concerns, you can minimize objections during the closing phase.\n",
      "8. Stay positive and confident: Maintain a positive attitude throughout the objection handling process. Confidence in your product or service reassures the customer and instills trust in their decision-making process.\n",
      "9. Follow up with additional support: If the objection requires further information or clarification, offer to provide additional resources or assistance. This shows your commitment to customer satisfaction and helps build a long-term relationship.\n",
      "10. Practice objection handling: Role-play objection scenarios with colleagues or mentors to refine your skills. By practicing different responses, you can become more comfortable and adept at handling objections during the closing phase.\n",
      "Remember, objections shouldn't be seen as roadblocks but rather as opportunities to address concerns and provide value. By effectively handling objections, you can build trust, overcome skepticism, and ultimately close the sale. Developing the ability to handle objections with confidence and finesse is a crucial skill for any salesperson looking to excel in their field. Chapter 6: Closing the Sale\n",
      "Subpoint: Trial closing to gauge customer readiness\n",
      "Trial closing is an essential technique in the sales process that allows sales professionals to assess the customer's readiness to make a purchase. It involves strategically probing the customer's interest and commitment level to determine if they are ready to move forward with the sale. By employing trial closing techniques, salespeople can gather valuable information and adjust their approach accordingly to increase the likelihood of a successful sale.\n",
      "1. Understanding the importance of trial closing:\n",
      "Trial closing serves multiple purposes in the sales process. Firstly, it helps sales professionals gauge the customer's level of interest and engagement. By asking trial closing questions, such as \"Would this product/service meet your needs?\" or \"Can you envision this solution benefiting your business?\", salespeople can evaluate the customer's response and determine their level of enthusiasm.\n",
      "Additionally, trial closing enables salespeople to identify any potential objections or concerns that the customer may have. By probing for feedback and asking questions like, \"What are your thoughts on this proposal?\" or \"Do you have any hesitations or reservations?\", sales professionals can address any objections early on and prevent them from becoming obstacles later in the sales process.\n",
      "2. Techniques for trial closing:\n",
      "There are various trial closing techniques that sales professionals can employ to gauge customer readiness. These techniques include:\n",
      "a. Assumptive trial closing: This approach involves presenting the customer with assumptive statements that assume the sale is already made. For example, saying, \"When would you like us to deliver the product?\" instead of asking, \"Would you like to proceed with the purchase?\"\n",
      "b. Choice trial closing: This technique gives the customer a sense of control and involves presenting them with two or more options. By asking questions like, \"Would you prefer the standard package or the premium package?\" or \"Which delivery date works best for you?\", salespeople can assess the customer's preferences and readiness to make a decision.\n",
      "c. Alternative trial closing: This method involves presenting the customer with multiple alternatives, emphasizing the benefits of each option. By asking questions like, \"Would you prefer the blue or the red version?\" or \"Do you think the monthly plan or the annual plan would be a better fit for your needs?\", sales professionals can gauge the customer's preferences and evaluate their level of commitment.\n",
      "3. Assessing customer readiness:\n",
      "During trial closing, it is crucial for sales professionals to actively listen to the customer's responses and observe their reactions. This allows them to gauge the customer's level of interest, commitment, and readiness to move forward with the sale. Positive indicators may include verbal agreement, enthusiasm, and eagerness to discuss further details. On the other hand, signs of hesitation or resistance may indicate that the customer needs additional information or reassurance before making a final decision.\n",
      "4. Adapting the sales approach:\n",
      "Based on the customer's responses during trial closing, sales professionals can adapt their sales approach to address any concerns or objections effectively. If the customer expresses hesitations or uncertainties, it is essential to provide additional information, clarify any misunderstandings, and re-emphasize the benefits and value of the product or service. By addressing these concerns, salespeople can build trust and confidence, increasing the chances of closing the sale successfully.\n",
      "In conclusion, trial closing is a valuable technique in the sales process that allows sales professionals to gauge customer readiness and gather important feedback. By employing various trial closing techniques and actively listening to the customer's responses, salespeople can adapt their approach, address objections, and increase the likelihood of closing the sale. Mastering trial closing skills is essential for sales professionals looking to excel in their field and consistently achieve sales targets. Chapter 6: Closing the Sale\n",
      "Subpoint: Choosing the Most Appropriate Closing Technique\n",
      "In the world of sales, closing the sale is the ultimate goal. It is the moment where all your efforts in building rapport, understanding customer needs, and presenting solutions come together. However, closing techniques are not a one-size-fits-all approach. Different situations and customers require different approaches. In this section, we will explore the importance of choosing the most appropriate closing technique to maximize your chances of success.\n",
      "Understanding the customer and their unique buying signals is crucial in determining the closing technique to employ. Every customer is different, and what works for one may not work for another. By carefully observing their behavior, listening to their needs, and paying attention to their verbal and non-verbal cues, you can identify the most effective closing technique to use.\n",
      "Recognizing buying signals is a key aspect of choosing the right closing technique. Buying signals are indications that the customer is ready to make a purchase. These signals can range from asking specific questions about the product or service to expressing a desire to move forward. By actively listening and being attentive, you can pick up on these signals and adapt your closing technique accordingly.\n",
      "Once you have identified the buying signals, it is essential to understand the different closing techniques at your disposal. Some common closing techniques include the assumptive close, where you assume the sale will happen and guide the customer towards the next steps; the option close, where you present the customer with multiple choices to encourage a decision; and the summary close, where you recap the benefits and value proposition to reinforce the customer's desire to buy.\n",
      "However, choosing the most appropriate closing technique goes beyond simply recognizing buying signals and knowing the various options available. It requires assessing the customer's unique situation and tailoring your approach accordingly. For example, if a customer is hesitant due to budget constraints, offering a payment plan or discount as an incentive to close the deal may be the most effective technique. Similarly, if a customer has specific concerns or objections, addressing them directly and providing reassurance can help overcome resistance and lead to a successful close.\n",
      "Trial closing is another valuable technique in the process of choosing the right closing approach. By posing hypothetical questions or presenting partial closing statements, you can gauge the customer's readiness to move forward. Their response will provide valuable insights into their level of interest and allow you to adjust your approach accordingly.\n",
      "Confidence plays a vital role in successfully closing a sale. When asking for the sale, it is crucial to do so with confidence and conviction. Displaying uncertainty or hesitation can create doubt in the customer's mind. By demonstrating belief in the product or service and conveying the value it can bring, you instill confidence in the customer and increase the likelihood of a positive outcome.\n",
      "In some cases, customers may still have hesitations or concerns even after you have presented the most appropriate closing technique. It is important to address these concerns head-on and provide additional information or clarification to alleviate any doubts. By showing empathy, actively listening, and offering solutions, you can reassure the customer and guide them towards a favorable decision.\n",
      "In certain situations, offering incentives or discounts can be the final push needed to close the deal. These could include limited-time offers, special promotions, or additional benefits that sweeten the deal. By creating a sense of urgency and scarcity, you encourage the customer to take immediate action and avoid the risk of losing out on a valuable opportunity.\n",
      "Negotiating terms and conditions may be necessary in some cases, especially when dealing with larger purchases or complex agreements. This requires a careful balance between meeting the customer's needs and protecting your business interests. By finding common ground and reaching mutually beneficial terms, you can ensure a win-win situation and facilitate the closing process.\n",
      "Once the customer has made the decision to proceed, it is essential to finalize the paperwork promptly and ensure a smooth transition. This includes handling administrative tasks efficiently, providing clear instructions, and addressing any last-minute concerns. By demonstrating professionalism and attention to detail, you instill confidence in the customer and reinforce their decision.\n",
      "Closing the sale is not the end of the customer journey but rather the beginning of a long-term relationship. Following up after the sale is crucial to maintain customer satisfaction and foster loyalty. This can involve sending thank-you notes, conducting customer satisfaction surveys, or offering additional support or resources. By nurturing the relationship beyond the sale, you increase the chances of repeat business and referrals.\n",
      "Tracking and measuring closing success rates is vital for ongoing improvement. By analyzing the effectiveness of different closing techniques, you can identify patterns, strengths, and areas for improvement. This data-driven approach allows you to refine your strategies and continuously enhance your sales skills.\n",
      "In conclusion, choosing the most appropriate closing technique is a crucial step in the sales process. By understanding the customer, recognizing buying signals, and tailoring your approach, you increase your chances of successfully closing the sale. Confidence, empathy, and effective communication are key factors in guiding the customer towards a positive decision. Remember, closing is not the end but rather the beginning of a fruitful relationship with the customer. Chapter 6: Closing the Sale\n",
      "Subpoint: Asking for the Sale Confidently\n",
      "Asking for the sale confidently is a crucial step in the sales process. It requires the salesperson to have a strong belief in the value of their product or service and the ability to effectively communicate this value to the customer. This subpoint will provide you with a detailed understanding of the importance of asking for the sale confidently and guide you on how to do so effectively.\n",
      "1. Understanding the Importance of Asking for the Sale Confidently\n",
      "- When it comes to closing a sale, confidence is key. If a salesperson is hesitant or unsure, it can create doubt in the customer's mind and make them hesitant to make a purchase. On the other hand, a confident salesperson inspires trust and reassurance in the customer, making them more likely to commit to the sale.\n",
      "- Confidence also demonstrates the salesperson's expertise and knowledge about the product or service, which further enhances the customer's perception of value. It shows that the salesperson truly believes in what they are offering and can address any concerns or objections the customer may have.\n",
      "2. Techniques for Asking for the Sale Confidently\n",
      "a) Clearly restate the benefits and solutions: Before asking for the sale, it is important to reiterate the key benefits and solutions that the customer will gain from purchasing the product or service. This reinforces the value proposition and reminds the customer of the positive outcomes they can expect.\n",
      "b) Use assumptive language: Instead of asking the customer if they want to make a purchase, use assumptive language that implies their decision to buy. For example, say \"When would you like us to deliver the product?\" or \"Which payment option would you prefer?\"\n",
      "c) Be direct and specific: Avoid beating around the bush or using vague statements. Clearly and directly ask the customer for their commitment to the sale. For instance, ask \"Are you ready to proceed with the purchase today?\" or \"Shall we go ahead and finalize the order?\"\n",
      "d) Emphasize scarcity and urgency: Create a sense of scarcity or urgency to motivate the customer to make a decision. Highlight limited stock availability, time-sensitive promotions, or upcoming price increases to encourage the customer to act promptly.\n",
      "e) Address objections with confidence: If the customer raises any objections or concerns, address them confidently and provide compelling counterarguments. Demonstrate your knowledge and expertise to alleviate any doubts and reinforce their decision to make the purchase.\n",
      "3. Practice and Role-playing\n",
      "- Asking for the sale confidently may not come naturally to everyone, especially those with less experience in sales. Therefore, it is crucial to practice and role-play various scenarios to build confidence and refine your approach. Practice with colleagues, mentors, or even in front of a mirror to improve your delivery and communication skills.\n",
      "- Pay attention to your tone of voice, body language, and overall presentation. Aim for a confident and assertive tone, and maintain good eye contact with the customer. These non-verbal cues are equally important in conveying confidence and conviction.\n",
      "By mastering the art of asking for the sale confidently, you will significantly increase your chances of closing deals successfully. Remember, confidence is contagious, and when customers sense your conviction, they are more likely to trust your recommendations and make a purchase. So, hone your skills, believe in your product or service, and confidently ask for the sale, knowing that you are offering something of genuine value to your customers. Chapter 6: Closing the Sale\n",
      "Subpoint: Handling Customer Hesitations and Concerns\n",
      "When it comes to closing a sale, handling customer hesitations and concerns is a crucial aspect of the process. Customers may have various doubts or reservations that need to be addressed before they feel confident in making a purchase. As a salesperson, it is your responsibility to understand these hesitations and effectively alleviate them, ensuring that the customer feels comfortable and secure in their decision.\n",
      "To begin with, it is important to actively listen to the customer's concerns. Each customer is unique, and their hesitations may stem from different underlying reasons. By attentively listening, you can gather information about their concerns and tailor your responses accordingly. This will not only help you address their specific worries but also demonstrate your genuine interest in their needs and desires.\n",
      "Once you have identified the customer's hesitations, it is essential to empathize with their perspective. Put yourself in their shoes and try to understand why they might hesitate to make a purchase. By acknowledging their concerns, you can build trust and rapport, showing that you consider their feelings and opinions as valid.\n",
      "After empathizing, it is important to provide clear and well-thought-out explanations or solutions to address their hesitations. This may involve sharing relevant product information, discussing success stories of other satisfied customers, or even offering a demonstration to showcase the product's effectiveness. By presenting these concrete details, you can help the customer overcome their doubts and gain confidence in their decision-making process.\n",
      "During the conversation, it is crucial to maintain a positive attitude and remain patient. Some customers may require additional time to process the information and alleviate their concerns fully. Avoid rushing the customer or pressuring them into making a decision. Instead, provide them with the necessary support and guidance to help them reach a comfortable resolution.\n",
      "If the customer raises objections or presents valid concerns that you are unable to address immediately, it is important to be honest and transparent. Assure them that you will investigate their concerns further and provide them with a timely response. This demonstrates your commitment to their satisfaction and builds trust.\n",
      "In some cases, customers may hesitate due to financial concerns or budget constraints. In such situations, you can explore alternative payment options or offer flexible financing solutions to ease their worries. By providing viable solutions, you show flexibility and a willingness to work with the customer to find a mutually beneficial agreement.\n",
      "Lastly, always follow up with the customer after addressing their hesitations and concerns. This step is crucial for maintaining customer satisfaction and solidifying the relationship. By checking in with the customer and ensuring they are satisfied with their purchase, you not only strengthen their confidence in their decision but also open the door for future opportunities, such as repeat business or referrals.\n",
      "Handling customer hesitations and concerns during the closing phase is a delicate process, but with practice and the right techniques, you can effectively address their worries and guide them towards a successful sale. Remember, the key is to actively listen, empathize, provide clear explanations, offer viable solutions, and follow up to maintain customer satisfaction. By mastering these skills, you will become a persuasive salesperson capable of overcoming any hesitation or concern that may arise. Chapter 6: Closing the Sale\n",
      "Subpoint: Offering Incentives or Discounts to Close the Deal\n",
      "In the world of sales, one of the most effective strategies for closing a deal is to offer incentives or discounts to potential customers. This subpoint focuses on the importance of utilizing these techniques to seal the deal and secure a successful sale.\n",
      "Understanding the significance of offering incentives or discounts is crucial in the sales process. In today's competitive market, customers are constantly bombarded with numerous options and alternatives. To stand out from the crowd and entice customers to choose your product or service, offering an incentive or discount can be a game-changer. It provides an additional value proposition that can sway customers in your favor.\n",
      "Identifying the right moment to introduce incentives or discounts requires attentiveness and a thorough understanding of the customer's needs and desires. By actively listening and observing the customer's behavior, sales professionals can recognize key buying signals. These signals serve as indicators that the customer is interested and may be more receptive to an incentive or discount offer. Timing is essential, as offering incentives too early in the sales process may devalue the product or service.\n",
      "Recognizing different closing techniques is essential when offering incentives or discounts. Each customer is unique, and their motivations vary. Some customers may respond better to a percentage-based discount, while others may prefer a complimentary add-on to enhance the value of their purchase. By having a repertoire of closing techniques at their disposal, sales professionals can adapt their approach to suit the specific needs and preferences of each customer.\n",
      "Building urgency and creating a sense of scarcity is a powerful tactic when offering incentives or discounts. By emphasizing limited availability or time-sensitive offers, customers are more likely to act quickly to secure the deal. This strategy taps into the psychological principle of loss aversion, where individuals are more motivated by the fear of missing out than the potential gain itself.\n",
      "Handling objections during the closing phase is critical to maintaining the momentum and successfully offering incentives or discounts. Customers may express concerns regarding the legitimacy or value of the incentive. It is essential for sales professionals to address these objections effectively, providing reassurance and highlighting the benefits associated with the offer. By doing so, they can alleviate any hesitations and reinforce the customer's decision to proceed with the purchase.\n",
      "Trial closing is an excellent technique to gauge customer readiness before offering incentives or discounts. By presenting a hypothetical scenario or proposing a trial period, sales professionals can assess the customer's level of commitment. If the customer demonstrates a positive response during the trial close, it indicates a higher likelihood of success when differentiate and listening can customers that and tend their techniques\n",
      "---------------\n"
     ]
    }
   ],
   "source": [
    "# Generate\n",
    "model.eval()\n",
    "# start = ''\n",
    "# start_ids = encoding.encode(start)\n",
    "start_ids=test_data[:context_length]\n",
    "x = (torch.tensor(start_ids, dtype=torch.long, device=device)[None, ...])\n",
    "print(x.shape)\n",
    "y = model.generate(x, max_new_tokens=int(10))\n",
    "print('---------------')\n",
    "print(encoding.decode(y[0].tolist()))\n",
    "print('---------------')"
   ]
  },
  {
   "cell_type": "code",
   "execution_count": 26,
   "metadata": {},
   "outputs": [
    {
     "data": {
      "image/png": "[encoded data removed]",
      "text/plain": [
       "<Figure size 640x480 with 1 Axes>"
      ]
     },
     "metadata": {},
     "output_type": "display_data"
    }
   ],
   "source": [
    "import matplotlib.pyplot as plt\n",
    "\n",
    "x = [64, 128, 256, 512, 1024]\n",
    "y = [31.1, 5.13, 4.1, 2.36, 9.16]\n",
    "\n",
    "plt.plot(x, y, marker='o', label='Segment Length vs. Time')\n",
    "plt.axhline(y=32.5, color='r', linestyle='--', label='multi-head Benchmark')\n",
    "plt.xlabel('Segment Length')\n",
    "plt.ylabel('PreTrain Time / Min')\n",
    "plt.title('Segment Length vs. PreTrain Time ')\n",
    "plt.xticks([64, 128, 256, 512, 1024], [64, 128, 256, 512, 1024])\n",
    "plt.ylim(0, 40) \n",
    "plt.legend()\n",
    "plt.show()"
   ]
  }
 ],
 "metadata": {
  "kernelspec": {
   "display_name": "z2h",
   "language": "python",
   "name": "python3"
  },
  "language_info": {
   "codemirror_mode": {
    "name": "ipython",
    "version": 3
   },
   "file_extension": ".py",
   "mimetype": "text/x-python",
   "name": "python",
   "nbconvert_exporter": "python",
   "pygments_lexer": "ipython3",
   "version": "3.8.19"
  }
 },
 "nbformat": 4,
 "nbformat_minor": 2
}
